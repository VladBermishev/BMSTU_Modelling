{
 "cells": [
  {
   "cell_type": "code",
   "id": "initial_id",
   "metadata": {
    "collapsed": true,
    "ExecuteTime": {
     "end_time": "2025-03-28T08:07:42.762865Z",
     "start_time": "2025-03-28T08:07:42.478583Z"
    }
   },
   "source": [
    "import pandas as pd\n",
    "from sklearn import svm\n",
    "from sklearn.linear_model import LogisticRegression\n",
    "from sklearn.tree import DecisionTreeClassifier\n",
    "from sklearn.ensemble import RandomForestClassifier\n",
    "from sklearn.metrics import accuracy_score, precision_score, recall_score, f1_score\n",
    "import seaborn as sns\n",
    "import numpy as np\n",
    "import matplotlib.pyplot as plt\n",
    "import sklearn\n",
    "from sklearn.model_selection import train_test_split"
   ],
   "outputs": [],
   "execution_count": 1
  },
  {
   "metadata": {
    "ExecuteTime": {
     "end_time": "2025-03-28T09:49:12.516902Z",
     "start_time": "2025-03-28T09:49:12.493771Z"
    }
   },
   "cell_type": "code",
   "source": [
    "import scipy.stats as st\n",
    "from scipy.optimize import fsolve\n",
    "from scipy.special import gamma\n",
    "\n",
    "def distr(x, point):\n",
    "    return np.sum(x <= point) / len(x)\n",
    "\n",
    "def z_filter(data, columns, alpha = 2):\n",
    "    result = data.copy()\n",
    "    for column in columns:\n",
    "        result = result[abs((result[column] - result[column].mean())/result[column].std()) < alpha]\n",
    "    return result\n",
    "\n",
    "def get_best_distribution(data):\n",
    "    dist_names = [\"norm\", \"gamma\", \"exponweib\", \"weibull_max\", \"weibull_min\", \"pareto\", \"genextreme\", \"expon\"]\n",
    "    dist_results = []\n",
    "    params = {}\n",
    "    for dist_name in dist_names:\n",
    "        dist = getattr(st, dist_name)\n",
    "        param = dist.fit(data)\n",
    "\n",
    "        params[dist_name] = param\n",
    "        # Applying the Kolmogorov-Smirnov test\n",
    "        D, p = st.kstest(data, dist_name, args=param)\n",
    "        print(\"p value for \"+dist_name+\" = \"+str(p))\n",
    "        dist_results.append((dist_name, p))\n",
    "\n",
    "    # select the best fitted distribution\n",
    "    best_dist, best_p = (max(dist_results, key=lambda item: item[1]))\n",
    "    # store the name of the best fit and its p value\n",
    "\n",
    "    print(\"Best fitting distribution: \"+str(best_dist))\n",
    "    print(\"Best p value: \"+ str(best_p))\n",
    "    print(\"Parameters for the best fit: \"+ str(params[best_dist]))\n",
    "    \n",
    "    return best_dist, best_p, params[best_dist]\n",
    "\n",
    "def f(alpha, beta, x):\n",
    "    return 1 - np.exp(alpha * x ** beta) # 1 - e^(alpha*x^beta)\n",
    "\n",
    "def weibull(k, lam):\n",
    "    def func(x):\n",
    "        return k/lam * (x/lam)**(k-1)*np.exp(-(x/lam)**k)\n",
    "    return func\n",
    "\n",
    "def minimum_square_method(coefs, x):\n",
    "    alpha, beta = coefs\n",
    "    x_new = np.arange(min(x), max(x), (max(x)-min(x)) / 100)\n",
    "    y = list(map(lambda point: np.sum(x <= point) / len(x), x_new))\n",
    "    return np.sum((f(alpha, beta, x_new) - y)**2)\n",
    "\n",
    "def moment_method(sample_1, sample_2):\n",
    "    beta = np.var(np.log(sample_1)) / (np.var(np.log(sample_2)))\n",
    "    alpha = np.exp(- beta*np.mean(np.log(sample_2)) + np.mean(np.log(sample_1)))\n",
    "    return alpha, beta\n",
    "\n",
    "def calculate_Kolmogorov_statistic(sample_1, sample_2, alpha, beta):\n",
    "    y_sample_1 = list(map(lambda point: distr(sample_1, point), alpha * sample_2 ** beta))\n",
    "    y_sample_2 = list(map(lambda point: distr(alpha * sample_2 ** beta, point), alpha * sample_2 ** beta))\n",
    "    max_dif = -1e10\n",
    "    for y_1 in y_sample_1:\n",
    "        for y_2 in y_sample_2:\n",
    "            if np.abs(y_1 - y_2) > max_dif:\n",
    "                max_dif = np.abs(y_1 - y_2)\n",
    "    return max_dif * np.sqrt(len(sample_1))\n",
    "\n",
    "\n",
    "def estimate_weibull_params_moments(data):\n",
    "    x_mean = data.mean()\n",
    "    x_var = data.var(ddof=1)\n",
    "    \n",
    "    def moment_method_for_weibull(k):\n",
    "        lam = x_mean / gamma(1 + 1.0/k)\n",
    "        theor_var = lam**2 * (gamma(1 + 2.0/k) - gamma(1 + 1.0/k)**2)\n",
    "        return x_var - theor_var  \n",
    "    \n",
    "    k_initial_guess = 1.0  \n",
    "    k_solution, = fsolve(moment_method_for_weibull, x0=k_initial_guess)\n",
    "    \n",
    "    lam_solution = x_mean / gamma(1 + 1.0/k_solution)\n",
    "    \n",
    "    return k_solution, lam_solution"
   ],
   "id": "b7b8dc0be02d79fb",
   "outputs": [],
   "execution_count": 77
  },
  {
   "metadata": {
    "ExecuteTime": {
     "end_time": "2025-03-28T09:05:40.925128Z",
     "start_time": "2025-03-28T09:05:40.899790Z"
    }
   },
   "cell_type": "code",
   "source": [
    "data = pd.read_csv('diabetes.csv', sep=',').drop_duplicates()\n",
    "data = z_filter(data, ['SkinThickness', 'Glucose', 'BloodPressure', 'Pregnancies', 'BMI', 'Age'], alpha=3)\n",
    "#mean_value = data.loc[:, 'SkinThickness'].mean()\n",
    "#data['SkinThickness'].replace(0, mean_value)\n",
    "data"
   ],
   "id": "febefa62f372d32",
   "outputs": [
    {
     "data": {
      "text/plain": [
       "     Pregnancies  Glucose  BloodPressure  SkinThickness  Insulin   BMI  \\\n",
       "0              6      148             72             35        0  33.6   \n",
       "1              1       85             66             29        0  26.6   \n",
       "2              8      183             64              0        0  23.3   \n",
       "3              1       89             66             23       94  28.1   \n",
       "4              0      137             40             35      168  43.1   \n",
       "..           ...      ...            ...            ...      ...   ...   \n",
       "763           10      101             76             48      180  32.9   \n",
       "764            2      122             70             27        0  36.8   \n",
       "765            5      121             72             23      112  26.2   \n",
       "766            1      126             60              0        0  30.1   \n",
       "767            1       93             70             31        0  30.4   \n",
       "\n",
       "     DiabetesPedigreeFunction  Age  Outcome  \n",
       "0                       0.627   50        1  \n",
       "1                       0.351   31        0  \n",
       "2                       0.672   32        1  \n",
       "3                       0.167   21        0  \n",
       "4                       2.288   33        1  \n",
       "..                        ...  ...      ...  \n",
       "763                     0.171   63        0  \n",
       "764                     0.340   27        0  \n",
       "765                     0.245   30        0  \n",
       "766                     0.349   47        1  \n",
       "767                     0.315   23        0  \n",
       "\n",
       "[712 rows x 9 columns]"
      ],
      "text/html": [
       "<div>\n",
       "<style scoped>\n",
       "    .dataframe tbody tr th:only-of-type {\n",
       "        vertical-align: middle;\n",
       "    }\n",
       "\n",
       "    .dataframe tbody tr th {\n",
       "        vertical-align: top;\n",
       "    }\n",
       "\n",
       "    .dataframe thead th {\n",
       "        text-align: right;\n",
       "    }\n",
       "</style>\n",
       "<table border=\"1\" class=\"dataframe\">\n",
       "  <thead>\n",
       "    <tr style=\"text-align: right;\">\n",
       "      <th></th>\n",
       "      <th>Pregnancies</th>\n",
       "      <th>Glucose</th>\n",
       "      <th>BloodPressure</th>\n",
       "      <th>SkinThickness</th>\n",
       "      <th>Insulin</th>\n",
       "      <th>BMI</th>\n",
       "      <th>DiabetesPedigreeFunction</th>\n",
       "      <th>Age</th>\n",
       "      <th>Outcome</th>\n",
       "    </tr>\n",
       "  </thead>\n",
       "  <tbody>\n",
       "    <tr>\n",
       "      <th>0</th>\n",
       "      <td>6</td>\n",
       "      <td>148</td>\n",
       "      <td>72</td>\n",
       "      <td>35</td>\n",
       "      <td>0</td>\n",
       "      <td>33.6</td>\n",
       "      <td>0.627</td>\n",
       "      <td>50</td>\n",
       "      <td>1</td>\n",
       "    </tr>\n",
       "    <tr>\n",
       "      <th>1</th>\n",
       "      <td>1</td>\n",
       "      <td>85</td>\n",
       "      <td>66</td>\n",
       "      <td>29</td>\n",
       "      <td>0</td>\n",
       "      <td>26.6</td>\n",
       "      <td>0.351</td>\n",
       "      <td>31</td>\n",
       "      <td>0</td>\n",
       "    </tr>\n",
       "    <tr>\n",
       "      <th>2</th>\n",
       "      <td>8</td>\n",
       "      <td>183</td>\n",
       "      <td>64</td>\n",
       "      <td>0</td>\n",
       "      <td>0</td>\n",
       "      <td>23.3</td>\n",
       "      <td>0.672</td>\n",
       "      <td>32</td>\n",
       "      <td>1</td>\n",
       "    </tr>\n",
       "    <tr>\n",
       "      <th>3</th>\n",
       "      <td>1</td>\n",
       "      <td>89</td>\n",
       "      <td>66</td>\n",
       "      <td>23</td>\n",
       "      <td>94</td>\n",
       "      <td>28.1</td>\n",
       "      <td>0.167</td>\n",
       "      <td>21</td>\n",
       "      <td>0</td>\n",
       "    </tr>\n",
       "    <tr>\n",
       "      <th>4</th>\n",
       "      <td>0</td>\n",
       "      <td>137</td>\n",
       "      <td>40</td>\n",
       "      <td>35</td>\n",
       "      <td>168</td>\n",
       "      <td>43.1</td>\n",
       "      <td>2.288</td>\n",
       "      <td>33</td>\n",
       "      <td>1</td>\n",
       "    </tr>\n",
       "    <tr>\n",
       "      <th>...</th>\n",
       "      <td>...</td>\n",
       "      <td>...</td>\n",
       "      <td>...</td>\n",
       "      <td>...</td>\n",
       "      <td>...</td>\n",
       "      <td>...</td>\n",
       "      <td>...</td>\n",
       "      <td>...</td>\n",
       "      <td>...</td>\n",
       "    </tr>\n",
       "    <tr>\n",
       "      <th>763</th>\n",
       "      <td>10</td>\n",
       "      <td>101</td>\n",
       "      <td>76</td>\n",
       "      <td>48</td>\n",
       "      <td>180</td>\n",
       "      <td>32.9</td>\n",
       "      <td>0.171</td>\n",
       "      <td>63</td>\n",
       "      <td>0</td>\n",
       "    </tr>\n",
       "    <tr>\n",
       "      <th>764</th>\n",
       "      <td>2</td>\n",
       "      <td>122</td>\n",
       "      <td>70</td>\n",
       "      <td>27</td>\n",
       "      <td>0</td>\n",
       "      <td>36.8</td>\n",
       "      <td>0.340</td>\n",
       "      <td>27</td>\n",
       "      <td>0</td>\n",
       "    </tr>\n",
       "    <tr>\n",
       "      <th>765</th>\n",
       "      <td>5</td>\n",
       "      <td>121</td>\n",
       "      <td>72</td>\n",
       "      <td>23</td>\n",
       "      <td>112</td>\n",
       "      <td>26.2</td>\n",
       "      <td>0.245</td>\n",
       "      <td>30</td>\n",
       "      <td>0</td>\n",
       "    </tr>\n",
       "    <tr>\n",
       "      <th>766</th>\n",
       "      <td>1</td>\n",
       "      <td>126</td>\n",
       "      <td>60</td>\n",
       "      <td>0</td>\n",
       "      <td>0</td>\n",
       "      <td>30.1</td>\n",
       "      <td>0.349</td>\n",
       "      <td>47</td>\n",
       "      <td>1</td>\n",
       "    </tr>\n",
       "    <tr>\n",
       "      <th>767</th>\n",
       "      <td>1</td>\n",
       "      <td>93</td>\n",
       "      <td>70</td>\n",
       "      <td>31</td>\n",
       "      <td>0</td>\n",
       "      <td>30.4</td>\n",
       "      <td>0.315</td>\n",
       "      <td>23</td>\n",
       "      <td>0</td>\n",
       "    </tr>\n",
       "  </tbody>\n",
       "</table>\n",
       "<p>712 rows × 9 columns</p>\n",
       "</div>"
      ]
     },
     "execution_count": 40,
     "metadata": {},
     "output_type": "execute_result"
    }
   ],
   "execution_count": 40
  },
  {
   "metadata": {
    "ExecuteTime": {
     "end_time": "2025-03-28T09:05:42.522748Z",
     "start_time": "2025-03-28T09:05:42.513303Z"
    }
   },
   "cell_type": "code",
   "source": [
    "first_type, second_type = data[data['Insulin'] == 0], data[data['Insulin'] > 0]\n",
    "first_type = first_type.drop(columns=['Insulin', \"Pregnancies\", \"BloodPressure\", \"SkinThickness\",\"BMI\", \"DiabetesPedigreeFunction\", \"Age\", \"Outcome\"])\n",
    "second_type = second_type.drop(columns=['Insulin', \"Pregnancies\", \"BloodPressure\", \"SkinThickness\",\"BMI\", \"DiabetesPedigreeFunction\", \"Age\", \"Outcome\"])\n",
    "print(f\"first type size: {first_type.axes[0].size}, second type size: {second_type.axes[0].size}\")"
   ],
   "id": "dbb4a176ae765a15",
   "outputs": [
    {
     "name": "stdout",
     "output_type": "stream",
     "text": [
      "first type size: 328, second type size: 384\n"
     ]
    }
   ],
   "execution_count": 41
  },
  {
   "metadata": {
    "ExecuteTime": {
     "end_time": "2025-03-28T09:05:54.814831Z",
     "start_time": "2025-03-28T09:05:54.804260Z"
    }
   },
   "cell_type": "code",
   "source": "train_data, test_data = train_test_split(first_type, test_size=0.20, random_state=42)",
   "id": "e9cdbeec77c73689",
   "outputs": [],
   "execution_count": 44
  },
  {
   "metadata": {
    "ExecuteTime": {
     "end_time": "2025-03-28T09:46:29.060276Z",
     "start_time": "2025-03-28T09:46:28.663935Z"
    }
   },
   "cell_type": "code",
   "source": [
    "hist_1, bin_edges_1 = np.histogram(train_data['Glucose'])\n",
    "values_1 = np.cumsum(hist_1/np.sum(hist_1))\n",
    "fig_1, axs_1 = plt.subplots(2)\n",
    "fig_1.suptitle('Data1')\n",
    "axs_1[0].plot(bin_edges_1[:-1], values_1)\n",
    "axs_1[0].set_title(\"Distibution\")\n",
    "axs_1[1].plot(bin_edges_1[:-1], hist_1)\n",
    "axs_1[1].set_title(\"Density\")"
   ],
   "id": "8aa88b2137fd7109",
   "outputs": [
    {
     "data": {
      "text/plain": [
       "array([ 3,  7, 29, 46, 61, 38, 35, 18, 13, 12])"
      ]
     },
     "execution_count": 68,
     "metadata": {},
     "output_type": "execute_result"
    },
    {
     "data": {
      "text/plain": [
       "<Figure size 432x288 with 2 Axes>"
      ],
      "image/png": "[encoded data removed]"
     },
     "metadata": {},
     "output_type": "display_data"
    }
   ],
   "execution_count": 68
  },
  {
   "metadata": {
    "ExecuteTime": {
     "end_time": "2025-03-28T09:08:57.521859Z",
     "start_time": "2025-03-28T09:08:57.084244Z"
    }
   },
   "cell_type": "code",
   "source": "get_best_distribution(train_data['Glucose'])",
   "id": "379cb5fca0dc3250",
   "outputs": [
    {
     "name": "stdout",
     "output_type": "stream",
     "text": [
      "p value for norm = 0.03029748759225015\n",
      "p value for gamma = 0.36418684448090444\n",
      "p value for exponweib = 0.3914824194437889\n",
      "p value for weibull_max = 1.9902970971809005e-154\n",
      "p value for weibull_min = 2.465039828225246e-188\n",
      "p value for pareto = 1.4494681065867612e-39\n",
      "p value for genextreme = 0.3611649706718205\n",
      "p value for expon = 1.722626499902083e-25\n",
      "Best fitting distribution: exponweib\n",
      "Best p value: 0.3914824194437889\n",
      "Parameters for the best fit: (77.25481118065076, 3.553586870706196, -323.23383045788376, 285.50563605685693)\n"
     ]
    },
    {
     "data": {
      "text/plain": [
       "('exponweib',\n",
       " 0.3914824194437889,\n",
       " (77.25481118065076,\n",
       "  3.553586870706196,\n",
       "  -323.23383045788376,\n",
       "  285.50563605685693))"
      ]
     },
     "execution_count": 52,
     "metadata": {},
     "output_type": "execute_result"
    }
   ],
   "execution_count": 52
  },
  {
   "metadata": {
    "ExecuteTime": {
     "end_time": "2025-03-28T09:32:47.059238Z",
     "start_time": "2025-03-28T09:32:47.055181Z"
    }
   },
   "cell_type": "code",
   "source": "estimate_weibull_params_moments(train_data['Glucose'])",
   "id": "60e0c276d477b4c3",
   "outputs": [
    {
     "data": {
      "text/plain": [
       "(4.392626853101395, 133.20936465831866)"
      ]
     },
     "execution_count": 57,
     "metadata": {},
     "output_type": "execute_result"
    }
   ],
   "execution_count": 57
  },
  {
   "metadata": {
    "ExecuteTime": {
     "end_time": "2025-03-28T09:06:04.159347Z",
     "start_time": "2025-03-28T09:06:04.153977Z"
    }
   },
   "cell_type": "code",
   "source": "train_second_data, test_second_data = train_test_split(second_type, test_size=0.20, random_state=42)",
   "id": "444663283642b952",
   "outputs": [],
   "execution_count": 47
  },
  {
   "metadata": {
    "ExecuteTime": {
     "end_time": "2025-03-28T09:47:45.917894Z",
     "start_time": "2025-03-28T09:47:45.641510Z"
    }
   },
   "cell_type": "code",
   "source": [
    "hist_2, bin_edges_2 = np.histogram(train_second_data['Glucose'])\n",
    "values_2 = np.cumsum(hist_2/np.sum(hist_2))\n",
    "fig_1, axs_1 = plt.subplots(2)\n",
    "fig_1.suptitle('Data1')\n",
    "axs_1[0].plot(bin_edges_2[:-1], values_2)\n",
    "axs_1[0].set_title(\"Density\")\n",
    "axs_1[1].plot(bin_edges_2[:-1], hist_2)\n",
    "axs_1[1].set_title(\"Distibution\")"
   ],
   "id": "b59f098e699c7c5f",
   "outputs": [
    {
     "data": {
      "text/plain": [
       "Text(0.5, 1.0, 'Distibution')"
      ]
     },
     "execution_count": 69,
     "metadata": {},
     "output_type": "execute_result"
    },
    {
     "data": {
      "text/plain": [
       "<Figure size 432x288 with 2 Axes>"
      ],
      "image/png": "[encoded data removed]"
     },
     "metadata": {},
     "output_type": "display_data"
    }
   ],
   "execution_count": 69
  },
  {
   "metadata": {
    "ExecuteTime": {
     "end_time": "2025-03-28T09:06:07.635336Z",
     "start_time": "2025-03-28T09:06:06.753763Z"
    }
   },
   "cell_type": "code",
   "source": "get_best_distribution(train_second_data['Glucose'])",
   "id": "5a36a9f3614e793d",
   "outputs": [
    {
     "name": "stdout",
     "output_type": "stream",
     "text": [
      "p value for norm = 0.022547343032909912\n",
      "p value for gamma = 0.606003058311577\n"
     ]
    },
    {
     "name": "stderr",
     "output_type": "stream",
     "text": [
      "/usr/lib/python3/dist-packages/scipy/stats/_continuous_distns.py:1734: RuntimeWarning: invalid value encountered in add\n",
      "  logp = (np.log(a) + np.log(c) + sc.xlogy(a - 1.0, exm1c) +\n"
     ]
    },
    {
     "name": "stdout",
     "output_type": "stream",
     "text": [
      "p value for exponweib = 3.6044722901115627e-194\n",
      "p value for weibull_max = 8.743248154391068e-178\n",
      "p value for weibull_min = 3.79953273905311e-214\n",
      "p value for pareto = 1.3968907432849197e-31\n"
     ]
    },
    {
     "name": "stderr",
     "output_type": "stream",
     "text": [
      "/usr/lib/python3/dist-packages/scipy/stats/_distn_infrastructure.py:2640: RuntimeWarning: invalid value encountered in multiply\n",
      "  Lhat = muhat - Shat*mu\n"
     ]
    },
    {
     "name": "stdout",
     "output_type": "stream",
     "text": [
      "p value for genextreme = 0.3870123127882107\n",
      "Best fitting distribution: gamma\n",
      "Best p value: 0.606003058311577\n",
      "Parameters for the best fit: (6.163653628213984, 43.2564345382105, 12.828847870023548)\n"
     ]
    },
    {
     "data": {
      "text/plain": [
       "('gamma',\n",
       " 0.606003058311577,\n",
       " (6.163653628213984, 43.2564345382105, 12.828847870023548))"
      ]
     },
     "execution_count": 49,
     "metadata": {},
     "output_type": "execute_result"
    }
   ],
   "execution_count": 49
  },
  {
   "metadata": {
    "ExecuteTime": {
     "end_time": "2025-03-28T09:49:18.723451Z",
     "start_time": "2025-03-28T09:49:18.718435Z"
    }
   },
   "cell_type": "code",
   "source": "k,lam = estimate_weibull_params_moments(train_second_data['Glucose'])",
   "id": "e96588f868c0533f",
   "outputs": [],
   "execution_count": 79
  },
  {
   "metadata": {
    "ExecuteTime": {
     "end_time": "2025-03-28T09:52:13.371262Z",
     "start_time": "2025-03-28T09:52:13.159616Z"
    }
   },
   "cell_type": "code",
   "source": [
    "dx = np.arange(np.min(train_second_data['Glucose']), np.max(train_second_data['Glucose']), (np.max(train_second_data['Glucose'])-np.min(train_second_data['Glucose'])) / 100)\n",
    "wf = weibull(k, lam)\n",
    "plt.plot(dx, [wf(val) for val in dx])\n",
    "sns.histplot(test_second_data['Glucose'], bins=30, stat='density', color='skyblue', alpha=0.6)\n",
    "#test = hist_2/np.sum(hist_2)\n",
    "#plt.plot(bin_edges_2[:-1], test)\n",
    "#1\n",
    "# alpha_1*e^x1*beta_1\n",
    "#2\n",
    "# alpha_2*e^x2*beta_2\n",
    "# e^x1*beta_1 = (alpha_2/alpha_1)*e^x2*beta_2\n",
    "# x1*beta_1 = ln(alpha_2/alpha_1) + x2*beta_2\n",
    "# x1 = (ln(alpha_2/alpha_1) + x2*beta_2)/beta_1"
   ],
   "id": "7dda470c6e23ae23",
   "outputs": [
    {
     "data": {
      "text/plain": [
       "<AxesSubplot:xlabel='Glucose', ylabel='Density'>"
      ]
     },
     "execution_count": 82,
     "metadata": {},
     "output_type": "execute_result"
    },
    {
     "data": {
      "text/plain": [
       "<Figure size 432x288 with 1 Axes>"
      ],
      "image/png": "[encoded data removed]"
     },
     "metadata": {},
     "output_type": "display_data"
    }
   ],
   "execution_count": 82
  },
  {
   "metadata": {
    "ExecuteTime": {
     "end_time": "2025-03-28T10:04:31.930798Z",
     "start_time": "2025-03-28T10:04:31.923892Z"
    }
   },
   "cell_type": "code",
   "source": [
    "alpha, beta = moment_method(train_data['Glucose'], train_second_data['Glucose'])\n",
    "print(f\"alpha_estimated:{alpha}, beta_estimated:{beta}\")"
   ],
   "id": "1889b6b0955f238a",
   "outputs": [
    {
     "name": "stdout",
     "output_type": "stream",
     "text": [
      "alpha_estimated:0.780136039734348, beta_estimated:1.0501883370652139\n"
     ]
    }
   ],
   "execution_count": 83
  },
  {
   "metadata": {
    "ExecuteTime": {
     "end_time": "2025-03-28T10:05:45.211118Z",
     "start_time": "2025-03-28T10:05:44.743124Z"
    }
   },
   "cell_type": "code",
   "source": [
    "def distr(x, point):\n",
    "    return np.sum(x <= point) / len(x)\n",
    "plt.scatter(train_second_data['Glucose'], list(map(lambda point: distr(alpha*train_second_data['Glucose']**beta, point), alpha*train_second_data['Glucose']**beta)), label = 'theta1')\n",
    "plt.scatter(train_data['Glucose'], list(map(lambda point: distr(train_data['Glucose'], point), train_data['Glucose'])), label = 'theta2')\n",
    "plt.legend()"
   ],
   "id": "349dac6a335c6d82",
   "outputs": [
    {
     "data": {
      "text/plain": [
       "<matplotlib.legend.Legend at 0x7f044bb7dde0>"
      ]
     },
     "execution_count": 84,
     "metadata": {},
     "output_type": "execute_result"
    },
    {
     "data": {
      "text/plain": [
       "<Figure size 432x288 with 1 Axes>"
      ],
      "image/png": "[encoded data removed]"
     },
     "metadata": {},
     "output_type": "display_data"
    }
   ],
   "execution_count": 84
  },
  {
   "metadata": {
    "ExecuteTime": {
     "end_time": "2025-03-28T10:13:01.372992Z",
     "start_time": "2025-03-28T10:13:01.036770Z"
    }
   },
   "cell_type": "code",
   "source": [
    "kolmogorov_stat = calculate_Kolmogorov_statistic(train_data['Glucose'], train_second_data['Glucose'], alpha, beta)\n",
    "print(f\"Статистика Колмогорова: {kolmogorov_stat}\")"
   ],
   "id": "184432819a3dc0ab",
   "outputs": [
    {
     "name": "stdout",
     "output_type": "stream",
     "text": [
      "Статистика Колмогорова: 16.186414056238647\n"
     ]
    }
   ],
   "execution_count": 87
  },
  {
   "metadata": {
    "ExecuteTime": {
     "end_time": "2025-03-28T10:19:54.850968Z",
     "start_time": "2025-03-28T10:19:54.844245Z"
    }
   },
   "cell_type": "code",
   "source": [
    "from scipy.stats import ks_2samp\n",
    "res = (ks_2samp(train_data['Glucose'], alpha * train_second_data['Glucose'] ** beta))"
   ],
   "id": "4b7b40eacc5f5280",
   "outputs": [],
   "execution_count": 89
  }
 ],
 "metadata": {
  "kernelspec": {
   "display_name": "Python 3",
   "language": "python",
   "name": "python3"
  },
  "language_info": {
   "codemirror_mode": {
    "name": "ipython",
    "version": 2
   },
   "file_extension": ".py",
   "mimetype": "text/x-python",
   "name": "python",
   "nbconvert_exporter": "python",
   "pygments_lexer": "ipython2",
   "version": "2.7.6"
  }
 },
 "nbformat": 4,
 "nbformat_minor": 5
}
