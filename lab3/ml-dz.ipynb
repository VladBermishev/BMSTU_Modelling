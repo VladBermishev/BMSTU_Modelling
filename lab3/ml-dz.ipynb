{
 "cells": [
  {
   "cell_type": "code",
   "id": "initial_id",
   "metadata": {
    "collapsed": true,
    "ExecuteTime": {
     "end_time": "2025-04-14T07:18:51.423278Z",
     "start_time": "2025-04-14T07:18:51.404511Z"
    }
   },
   "source": [
    "import pandas as pd\n",
    "import numpy as np\n",
    "import matplotlib.pyplot as plt\n",
    "from statsmodels.imputation.mice import MICEData\n",
    "import math"
   ],
   "outputs": [],
   "execution_count": 1
  },
  {
   "metadata": {
    "ExecuteTime": {
     "end_time": "2025-04-14T07:51:41.111105Z",
     "start_time": "2025-04-14T07:51:41.100567Z"
    }
   },
   "cell_type": "code",
   "source": [
    "def distr(x, point):\n",
    "    return np.sum(x <= point) / len(x)\n",
    "\n",
    "def z_filter(data, columns, alpha = 2):\n",
    "    result = data.copy()\n",
    "    for column in columns:\n",
    "        result = result[abs((result[column] - result[column].mean())/result[column].std()) < alpha]\n",
    "    return result\n",
    "\n",
    "def moment_method(sample_1, sample_2):\n",
    "    beta = np.std(np.log(sample_2), ddof=1) / np.std(np.log(sample_1), ddof=1)\n",
    "    alpha = np.exp(np.mean(np.log(sample_2)) - beta * np.mean(np.log(sample_1)))\n",
    "    return alpha, beta\n",
    "\n",
    "def calculate_Kolmogorov_statistic(sample_1, sample_2):\n",
    "    n1 = sample_1.shape[0]\n",
    "    n2 = sample_2.shape[0]\n",
    "    sample_1 = np.sort(sample_1)\n",
    "    sample_2 = np.sort(sample_2)\n",
    "    data_all = np.concatenate([sample_1, sample_2])\n",
    "    cdf1 = np.searchsorted(sample_1, data_all, side='right') / n1\n",
    "    cdf2 = np.searchsorted(sample_2, data_all, side='right') / n2\n",
    "    cddiffs = cdf1 - cdf2\n",
    "    minS = np.clip(-cddiffs[np.argmin(cddiffs)], 0, 1)\n",
    "    max_diff = cddiffs[np.argmax(cddiffs)]\n",
    "    result = minS if minS > max_diff else max_diff\n",
    "    return result"
   ],
   "id": "948b7a8508f39404",
   "outputs": [],
   "execution_count": 32
  },
  {
   "metadata": {
    "ExecuteTime": {
     "end_time": "2025-04-14T07:18:56.209946Z",
     "start_time": "2025-04-14T07:18:56.186272Z"
    }
   },
   "cell_type": "code",
   "source": [
    "data = pd.read_csv('diabetes.csv', sep=',').drop_duplicates()\n",
    "data = z_filter(data, ['Insulin', 'SkinThickness', 'Glucose', 'BloodPressure', 'Pregnancies', 'BMI', 'Age'], alpha=3)"
   ],
   "id": "c4f58793d7fc726",
   "outputs": [],
   "execution_count": 3
  },
  {
   "metadata": {
    "ExecuteTime": {
     "end_time": "2025-04-14T07:18:58.336052Z",
     "start_time": "2025-04-14T07:18:58.177834Z"
    }
   },
   "cell_type": "code",
   "source": [
    "cleansed_data = data.drop(columns=[\"Pregnancies\", \"BloodPressure\", \"SkinThickness\",\"BMI\", \"DiabetesPedigreeFunction\", \"Age\", \"Outcome\"])\n",
    "cleansed_data = z_filter(cleansed_data, ['Insulin', 'Glucose'], alpha=3)\n",
    "cleansed_data = cleansed_data.sort_values('Glucose').reset_index(drop=True)\n",
    "cleansed_data[\"Insulin\"] = cleansed_data[\"Insulin\"].replace(0, np.nan)\n",
    "imp_data = MICEData(cleansed_data, perturbation_method=\"boot\")\n",
    "for _ in range(10):\n",
    "    imp_data.update_all()\n",
    "cleansed_data = imp_data.data\n",
    "train_data, test_data = cleansed_data.loc[::2].reset_index(drop=True), cleansed_data.loc[1::2].reset_index(drop=True)\n",
    "print(f\"train_size: {train_data.shape[0]}, test_size: {test_data.shape[0]}\")"
   ],
   "id": "ec314b3d0c2b1b49",
   "outputs": [
    {
     "name": "stdout",
     "output_type": "stream",
     "text": [
      "train_size: 345, test_size: 344\n"
     ]
    }
   ],
   "execution_count": 4
  },
  {
   "metadata": {
    "ExecuteTime": {
     "end_time": "2025-04-14T07:51:54.113584Z",
     "start_time": "2025-04-14T07:51:54.097075Z"
    }
   },
   "cell_type": "code",
   "source": [
    "alpha, beta = moment_method(train_data['Insulin'], train_data['Glucose'])\n",
    "print(f\"alpha_estimated:{alpha}, beta_estimated:{beta}\")"
   ],
   "id": "3aeb9c759234cc40",
   "outputs": [
    {
     "name": "stdout",
     "output_type": "stream",
     "text": [
      "alpha_estimated:15.727729853344004, beta_estimated:0.4232267863136483\n"
     ]
    }
   ],
   "execution_count": 34
  },
  {
   "metadata": {
    "ExecuteTime": {
     "end_time": "2025-04-14T07:51:59.599813Z",
     "start_time": "2025-04-14T07:51:59.305058Z"
    }
   },
   "cell_type": "code",
   "source": [
    "def plot_scatter1(column1 = 'Glucose', column2 = 'Insulin'):\n",
    "    predict = alpha*test_data[column2]**beta\n",
    "    plt.scatter(test_data[column1], list(map(lambda point: distr(test_data[column1], point), test_data[column1])), label = column1)\n",
    "    plt.scatter(predict, list(map(lambda point: distr(predict, point), predict)), label = column2)\n",
    "\n",
    "plot_scatter1()\n",
    "plt.legend()"
   ],
   "id": "5f57b68ae8641e6d",
   "outputs": [
    {
     "data": {
      "text/plain": [
       "<matplotlib.legend.Legend at 0x7f1397517190>"
      ]
     },
     "execution_count": 35,
     "metadata": {},
     "output_type": "execute_result"
    },
    {
     "data": {
      "text/plain": [
       "<Figure size 432x288 with 1 Axes>"
      ],
      "image/png": "[encoded data removed]"
     },
     "metadata": {},
     "output_type": "display_data"
    }
   ],
   "execution_count": 35
  },
  {
   "metadata": {
    "ExecuteTime": {
     "end_time": "2025-04-14T07:52:25.554398Z",
     "start_time": "2025-04-14T07:52:25.534942Z"
    }
   },
   "cell_type": "code",
   "source": [
    "kolmogorov_stat = calculate_Kolmogorov_statistic(test_data['Glucose'], alpha * (test_data['Insulin']**beta))\n",
    "q_alpha = 0.05   # 5%\n",
    "D_alpha = np.sqrt(-1/2 * np.log((q_alpha) / 2)) * math.sqrt((len(test_data['Glucose']) + len(test_data['Insulin']))/(len(test_data['Glucose'])*len(test_data['Insulin'])))\n",
    "print(f\"D: {kolmogorov_stat}\")\n",
    "print(f\"D_alpha: {D_alpha}\")\n",
    "if kolmogorov_stat < D_alpha:\n",
    "    print(\"H0 Confirmed\")\n",
    "else:\n",
    "    print(\"H0 Disproved\")"
   ],
   "id": "95ac6cbfbd15c483",
   "outputs": [
    {
     "name": "stdout",
     "output_type": "stream",
     "text": [
      "D: 0.07267441860465118\n",
      "D_alpha: 0.10355426975849394\n",
      "H0 Confirmed\n"
     ]
    }
   ],
   "execution_count": 39
  },
  {
   "metadata": {
    "ExecuteTime": {
     "end_time": "2025-04-14T07:28:55.567283Z",
     "start_time": "2025-04-14T07:28:55.556457Z"
    }
   },
   "cell_type": "code",
   "source": [
    "math.sqrt(\n",
    "    (len(test_data['Glucose']) + len(test_data['Insulin'])) /\n",
    "    (len(test_data['Glucose']*test_data['Insulin']))\n",
    ")"
   ],
   "id": "4d2e5c08f5a9a47c",
   "outputs": [
    {
     "name": "stdout",
     "output_type": "stream",
     "text": [
      "344\n"
     ]
    },
    {
     "data": {
      "text/plain": [
       "1.4142135623730951"
      ]
     },
     "execution_count": 9,
     "metadata": {},
     "output_type": "execute_result"
    }
   ],
   "execution_count": 9
  }
 ],
 "metadata": {
  "kernelspec": {
   "display_name": "Python 3",
   "language": "python",
   "name": "python3"
  },
  "language_info": {
   "codemirror_mode": {
    "name": "ipython",
    "version": 2
   },
   "file_extension": ".py",
   "mimetype": "text/x-python",
   "name": "python",
   "nbconvert_exporter": "python",
   "pygments_lexer": "ipython2",
   "version": "2.7.6"
  }
 },
 "nbformat": 4,
 "nbformat_minor": 5
}
