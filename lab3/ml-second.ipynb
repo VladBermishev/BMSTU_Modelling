{
 "cells": [
  {
   "cell_type": "code",
   "id": "initial_id",
   "metadata": {
    "collapsed": true,
    "jupyter": {
     "outputs_hidden": true
    },
    "ExecuteTime": {
     "end_time": "2025-04-07T07:21:04.487119Z",
     "start_time": "2025-04-07T07:21:04.094638Z"
    }
   },
   "source": [
    "import pandas as pd\n",
    "from sklearn import svm\n",
    "from sklearn.linear_model import LogisticRegression\n",
    "from sklearn.tree import DecisionTreeClassifier\n",
    "from sklearn.ensemble import RandomForestClassifier\n",
    "from sklearn.metrics import accuracy_score, precision_score, recall_score, f1_score\n",
    "import seaborn as sns\n",
    "import numpy as np\n",
    "import matplotlib.pyplot as plt\n",
    "import scipy\n",
    "from sklearn.model_selection import train_test_split\n",
    "import scipy.stats as st\n",
    "from scipy.optimize import fsolve\n",
    "from scipy.special import gamma\n",
    "import math"
   ],
   "outputs": [],
   "execution_count": 1
  },
  {
   "cell_type": "code",
   "id": "b7b8dc0be02d79fb",
   "metadata": {
    "ExecuteTime": {
     "end_time": "2025-04-07T07:35:06.356389Z",
     "start_time": "2025-04-07T07:35:06.339679Z"
    }
   },
   "source": [
    "def distr(x, point):\n",
    "    return np.sum(x <= point) / len(x)\n",
    "\n",
    "def z_filter(data, columns, alpha = 2):\n",
    "    result = data.copy()\n",
    "    for column in columns:\n",
    "        result = result[abs((result[column] - result[column].mean())/result[column].std()) < alpha]\n",
    "    return result\n",
    "\n",
    "def get_best_distribution(data):\n",
    "    #dist_names = [\"norm\", \"gamma\", \"exponweib\", \"weibull_max\", \"weibull_min\", \"pareto\", \"genextreme\", \"expon\"]\n",
    "    dist_names = [\"weibull_max\", \"weibull_min\"]\n",
    "    dist_results = []\n",
    "    params = {}\n",
    "    for dist_name in dist_names:\n",
    "        dist = getattr(st, dist_name)\n",
    "        param = dist.fit(data)\n",
    "\n",
    "        params[dist_name] = param\n",
    "        # Applying the Kolmogorov-Smirnov test\n",
    "        D, p = st.kstest(data, dist_name, args=param)\n",
    "        print(\"p value for \"+dist_name+\" = \"+str(p))\n",
    "        dist_results.append((dist_name, p))\n",
    "\n",
    "    # select the best fitted distribution\n",
    "    best_dist, best_p = (max(dist_results, key=lambda item: item[1]))\n",
    "    # store the name of the best fit and its p value\n",
    "\n",
    "    print(\"Best fitting distribution: \"+str(best_dist))\n",
    "    print(\"Best p value: \"+ str(best_p))\n",
    "    print(\"Parameters for the best fit: \"+ str(params[best_dist]))\n",
    "    \n",
    "    return best_dist, best_p, params[best_dist]\n",
    "\n",
    "def f(alpha, beta, x):\n",
    "    return 1 - np.exp(alpha * x ** beta) # 1 - e^(alpha*x^beta)\n",
    "\n",
    "def weibull(k, scale, loc=0):\n",
    "    def func(x):\n",
    "        return k/scale * ((x-loc)/scale)**(k-1)*np.exp(-((x-loc)/scale)**k)\n",
    "    return func\n",
    "\n",
    "def minimum_square_method(func):\n",
    "    def minimum_square_method_impl(coefs, x):\n",
    "        alpha, beta = coefs\n",
    "        x_new = np.arange(min(x), max(x), (max(x)-min(x)) / 100)\n",
    "        y = list(map(lambda point: np.sum(x <= point) / len(x), x_new))\n",
    "        return np.sum((func(alpha, beta)(x_new) - y)**2)\n",
    "    return minimum_square_method_impl\n",
    "\n",
    "def moment_method(sample_1, sample_2):\n",
    "    beta = np.var(np.log(sample_1)) / (np.var(np.log(sample_2)))\n",
    "    alpha = np.exp(-beta*np.mean(np.log(sample_2)) + np.mean(np.log(sample_1)))\n",
    "    return alpha, beta\n",
    "\n",
    "def calculate_Kolmogorov_statistic(sample_1, sample_2):\n",
    "    y_sample_1 = list(map(lambda point: distr(sample_1, point), sample_1))\n",
    "    y_sample_2 = list(map(lambda point: distr(sample_2, point), sample_2))\n",
    "    n1 = sample_1.shape[0]\n",
    "    n2 = sample_2.shape[0]\n",
    "    data_all = np.concatenate([y_sample_1, y_sample_2])\n",
    "    cdf1 = np.searchsorted(y_sample_1, data_all, side='right') / n1\n",
    "    cdf2 = np.searchsorted(y_sample_2, data_all, side='right') / n2\n",
    "    cddiffs = cdf1 - cdf2\n",
    "    minS = np.clip(-cddiffs[np.argmin(cddiffs)], 0, 1)\n",
    "    max_diff = cddiffs[np.argmax(cddiffs)]\n",
    "    result = minS if minS > max_diff else max_diff\n",
    "    print(f\"DNM: {result}\")\n",
    "    return result * np.sqrt(max(len(sample_1),len(sample_2)))\n",
    "\n",
    "\n",
    "def estimate_weibull_params_moments(data):\n",
    "    x_mean = data.mean()\n",
    "    x_var = data.var(ddof=1)\n",
    "    \n",
    "    def moment_method_for_weibull(k):\n",
    "        lam = x_mean / gamma(1 + 1.0/k)\n",
    "        theor_var = lam**2 * (gamma(1 + 2.0/k) - gamma(1 + 1.0/k)**2)\n",
    "        return x_var - theor_var  \n",
    "    \n",
    "    k_initial_guess = 1.0  \n",
    "    k_solution, = fsolve(moment_method_for_weibull, x0=k_initial_guess)\n",
    "    \n",
    "    lam_solution = x_mean / gamma(1 + 1.0/k_solution)\n",
    "    \n",
    "    return k_solution, lam_solution"
   ],
   "outputs": [],
   "execution_count": 15
  },
  {
   "cell_type": "code",
   "id": "febefa62f372d32",
   "metadata": {
    "ExecuteTime": {
     "end_time": "2025-04-07T07:38:46.515410Z",
     "start_time": "2025-04-07T07:38:46.475883Z"
    }
   },
   "source": [
    "data = pd.read_csv('diabetes.csv', sep=',').drop_duplicates()\n",
    "data = z_filter(data, ['SkinThickness', 'Glucose', 'BloodPressure', 'Pregnancies', 'BMI', 'Age'], alpha=3)\n",
    "#mean_value = data.loc[:, 'SkinThickness'].mean()\n",
    "#data['SkinThickness'].replace(0, mean_value)\n",
    "print(data.shape[0])\n",
    "data"
   ],
   "outputs": [
    {
     "name": "stdout",
     "output_type": "stream",
     "text": [
      "712\n"
     ]
    },
    {
     "data": {
      "text/plain": [
       "     Pregnancies  Glucose  BloodPressure  SkinThickness  Insulin   BMI  \\\n",
       "0              6      148             72             35        0  33.6   \n",
       "1              1       85             66             29        0  26.6   \n",
       "2              8      183             64              0        0  23.3   \n",
       "3              1       89             66             23       94  28.1   \n",
       "4              0      137             40             35      168  43.1   \n",
       "..           ...      ...            ...            ...      ...   ...   \n",
       "763           10      101             76             48      180  32.9   \n",
       "764            2      122             70             27        0  36.8   \n",
       "765            5      121             72             23      112  26.2   \n",
       "766            1      126             60              0        0  30.1   \n",
       "767            1       93             70             31        0  30.4   \n",
       "\n",
       "     DiabetesPedigreeFunction  Age  Outcome  \n",
       "0                       0.627   50        1  \n",
       "1                       0.351   31        0  \n",
       "2                       0.672   32        1  \n",
       "3                       0.167   21        0  \n",
       "4                       2.288   33        1  \n",
       "..                        ...  ...      ...  \n",
       "763                     0.171   63        0  \n",
       "764                     0.340   27        0  \n",
       "765                     0.245   30        0  \n",
       "766                     0.349   47        1  \n",
       "767                     0.315   23        0  \n",
       "\n",
       "[712 rows x 9 columns]"
      ],
      "text/html": [
       "<div>\n",
       "<style scoped>\n",
       "    .dataframe tbody tr th:only-of-type {\n",
       "        vertical-align: middle;\n",
       "    }\n",
       "\n",
       "    .dataframe tbody tr th {\n",
       "        vertical-align: top;\n",
       "    }\n",
       "\n",
       "    .dataframe thead th {\n",
       "        text-align: right;\n",
       "    }\n",
       "</style>\n",
       "<table border=\"1\" class=\"dataframe\">\n",
       "  <thead>\n",
       "    <tr style=\"text-align: right;\">\n",
       "      <th></th>\n",
       "      <th>Pregnancies</th>\n",
       "      <th>Glucose</th>\n",
       "      <th>BloodPressure</th>\n",
       "      <th>SkinThickness</th>\n",
       "      <th>Insulin</th>\n",
       "      <th>BMI</th>\n",
       "      <th>DiabetesPedigreeFunction</th>\n",
       "      <th>Age</th>\n",
       "      <th>Outcome</th>\n",
       "    </tr>\n",
       "  </thead>\n",
       "  <tbody>\n",
       "    <tr>\n",
       "      <th>0</th>\n",
       "      <td>6</td>\n",
       "      <td>148</td>\n",
       "      <td>72</td>\n",
       "      <td>35</td>\n",
       "      <td>0</td>\n",
       "      <td>33.6</td>\n",
       "      <td>0.627</td>\n",
       "      <td>50</td>\n",
       "      <td>1</td>\n",
       "    </tr>\n",
       "    <tr>\n",
       "      <th>1</th>\n",
       "      <td>1</td>\n",
       "      <td>85</td>\n",
       "      <td>66</td>\n",
       "      <td>29</td>\n",
       "      <td>0</td>\n",
       "      <td>26.6</td>\n",
       "      <td>0.351</td>\n",
       "      <td>31</td>\n",
       "      <td>0</td>\n",
       "    </tr>\n",
       "    <tr>\n",
       "      <th>2</th>\n",
       "      <td>8</td>\n",
       "      <td>183</td>\n",
       "      <td>64</td>\n",
       "      <td>0</td>\n",
       "      <td>0</td>\n",
       "      <td>23.3</td>\n",
       "      <td>0.672</td>\n",
       "      <td>32</td>\n",
       "      <td>1</td>\n",
       "    </tr>\n",
       "    <tr>\n",
       "      <th>3</th>\n",
       "      <td>1</td>\n",
       "      <td>89</td>\n",
       "      <td>66</td>\n",
       "      <td>23</td>\n",
       "      <td>94</td>\n",
       "      <td>28.1</td>\n",
       "      <td>0.167</td>\n",
       "      <td>21</td>\n",
       "      <td>0</td>\n",
       "    </tr>\n",
       "    <tr>\n",
       "      <th>4</th>\n",
       "      <td>0</td>\n",
       "      <td>137</td>\n",
       "      <td>40</td>\n",
       "      <td>35</td>\n",
       "      <td>168</td>\n",
       "      <td>43.1</td>\n",
       "      <td>2.288</td>\n",
       "      <td>33</td>\n",
       "      <td>1</td>\n",
       "    </tr>\n",
       "    <tr>\n",
       "      <th>...</th>\n",
       "      <td>...</td>\n",
       "      <td>...</td>\n",
       "      <td>...</td>\n",
       "      <td>...</td>\n",
       "      <td>...</td>\n",
       "      <td>...</td>\n",
       "      <td>...</td>\n",
       "      <td>...</td>\n",
       "      <td>...</td>\n",
       "    </tr>\n",
       "    <tr>\n",
       "      <th>763</th>\n",
       "      <td>10</td>\n",
       "      <td>101</td>\n",
       "      <td>76</td>\n",
       "      <td>48</td>\n",
       "      <td>180</td>\n",
       "      <td>32.9</td>\n",
       "      <td>0.171</td>\n",
       "      <td>63</td>\n",
       "      <td>0</td>\n",
       "    </tr>\n",
       "    <tr>\n",
       "      <th>764</th>\n",
       "      <td>2</td>\n",
       "      <td>122</td>\n",
       "      <td>70</td>\n",
       "      <td>27</td>\n",
       "      <td>0</td>\n",
       "      <td>36.8</td>\n",
       "      <td>0.340</td>\n",
       "      <td>27</td>\n",
       "      <td>0</td>\n",
       "    </tr>\n",
       "    <tr>\n",
       "      <th>765</th>\n",
       "      <td>5</td>\n",
       "      <td>121</td>\n",
       "      <td>72</td>\n",
       "      <td>23</td>\n",
       "      <td>112</td>\n",
       "      <td>26.2</td>\n",
       "      <td>0.245</td>\n",
       "      <td>30</td>\n",
       "      <td>0</td>\n",
       "    </tr>\n",
       "    <tr>\n",
       "      <th>766</th>\n",
       "      <td>1</td>\n",
       "      <td>126</td>\n",
       "      <td>60</td>\n",
       "      <td>0</td>\n",
       "      <td>0</td>\n",
       "      <td>30.1</td>\n",
       "      <td>0.349</td>\n",
       "      <td>47</td>\n",
       "      <td>1</td>\n",
       "    </tr>\n",
       "    <tr>\n",
       "      <th>767</th>\n",
       "      <td>1</td>\n",
       "      <td>93</td>\n",
       "      <td>70</td>\n",
       "      <td>31</td>\n",
       "      <td>0</td>\n",
       "      <td>30.4</td>\n",
       "      <td>0.315</td>\n",
       "      <td>23</td>\n",
       "      <td>0</td>\n",
       "    </tr>\n",
       "  </tbody>\n",
       "</table>\n",
       "<p>712 rows × 9 columns</p>\n",
       "</div>"
      ]
     },
     "execution_count": 33,
     "metadata": {},
     "output_type": "execute_result"
    }
   ],
   "execution_count": 33
  },
  {
   "cell_type": "code",
   "id": "dbb4a176ae765a15",
   "metadata": {
    "ExecuteTime": {
     "end_time": "2025-04-07T07:21:41.733311Z",
     "start_time": "2025-04-07T07:21:41.719252Z"
    }
   },
   "source": [
    "first_type, second_type = data[data['Insulin'] == 0], data[data['Insulin'] > 0]\n",
    "first_type = first_type.drop(columns=['Insulin', \"Pregnancies\", \"BloodPressure\", \"SkinThickness\",\"BMI\", \"DiabetesPedigreeFunction\", \"Age\", \"Outcome\"])\n",
    "second_type = second_type.drop(columns=['Insulin', \"Pregnancies\", \"BloodPressure\", \"SkinThickness\",\"BMI\", \"DiabetesPedigreeFunction\", \"Age\", \"Outcome\"])\n",
    "print(f\"first type size: {first_type.axes[0].size}, second type size: {second_type.axes[0].size}\")"
   ],
   "outputs": [
    {
     "name": "stdout",
     "output_type": "stream",
     "text": [
      "first type size: 328, second type size: 384\n"
     ]
    }
   ],
   "execution_count": 4
  },
  {
   "cell_type": "code",
   "id": "e9cdbeec77c73689",
   "metadata": {
    "ExecuteTime": {
     "end_time": "2025-04-07T07:21:44.284567Z",
     "start_time": "2025-04-07T07:21:44.259693Z"
    }
   },
   "source": [
    "#train_data, test_data = train_test_split(first_type, test_size=0.20, random_state=42)\n",
    "first_type = first_type.sort_values('Glucose').reset_index(drop=True)\n",
    "train_data, test_data = first_type.loc[::2].reset_index(drop=True), first_type.loc[1::2].reset_index(drop=True)\n",
    "second_type = second_type.sort_values('Glucose').reset_index(drop=True)\n",
    "train_data2, test_data2 = second_type.loc[::2].reset_index(drop=True), second_type.loc[1::2].reset_index(drop=True)\n",
    "print(f\"train_size: {train_data.shape[0]}, test_size: {test_data.shape[0]}\")"
   ],
   "outputs": [
    {
     "name": "stdout",
     "output_type": "stream",
     "text": [
      "train_size: 164, test_size: 164\n"
     ]
    }
   ],
   "execution_count": 5
  },
  {
   "cell_type": "code",
   "id": "8aa88b2137fd7109",
   "metadata": {
    "ExecuteTime": {
     "end_time": "2025-04-07T07:21:48.289594Z",
     "start_time": "2025-04-07T07:21:47.909697Z"
    }
   },
   "source": [
    "hist_1, bin_edges_1 = np.histogram(train_data['Glucose'])\n",
    "values_1 = np.cumsum(hist_1/np.sum(hist_1))\n",
    "fig_1, axs_1 = plt.subplots(2)\n",
    "fig_1.suptitle('Data1')\n",
    "axs_1[0].plot(bin_edges_1[:-1], values_1)\n",
    "axs_1[0].set_title(\"Distibution\")\n",
    "axs_1[1].plot(bin_edges_1[:-1], hist_1)\n",
    "axs_1[1].set_title(\"Density\")"
   ],
   "outputs": [
    {
     "data": {
      "text/plain": [
       "Text(0.5, 1.0, 'Density')"
      ]
     },
     "execution_count": 6,
     "metadata": {},
     "output_type": "execute_result"
    },
    {
     "data": {
      "text/plain": [
       "<Figure size 432x288 with 2 Axes>"
      ],
      "image/png": "[encoded data removed]"
     },
     "metadata": {},
     "output_type": "display_data"
    }
   ],
   "execution_count": 6
  },
  {
   "cell_type": "code",
   "id": "379cb5fca0dc3250",
   "metadata": {
    "ExecuteTime": {
     "end_time": "2025-03-29T11:53:26.927837Z",
     "start_time": "2025-03-29T11:53:26.896615Z"
    }
   },
   "source": "best_dist, p_val, params = get_best_distribution(train_data['Glucose'])",
   "outputs": [
    {
     "name": "stdout",
     "output_type": "stream",
     "text": [
      "p value for weibull_max = 1.8573485435222076e-98\n",
      "p value for weibull_min = 0.40903825957571904\n",
      "Best fitting distribution: weibull_min\n",
      "Best p value: 0.40903825957571904\n",
      "Parameters for the best fit: (np.float64(2.3856347736343393), np.float64(53.34493461175144), np.float64(75.91012957478425))\n"
     ]
    },
    {
     "data": {
      "text/plain": [
       "array([0.        , 0.00046941, 0.00154229, 0.0028691 , 0.00403845,\n",
       "       0.00464395, 0.00525659, 0.00556408, 0.0061784 , 0.00678797,\n",
       "       0.00678797, 0.00738824, 0.00768349, 0.00797478, 0.00826156,\n",
       "       0.00826156, 0.00826156, 0.00854333, 0.00881957, 0.00935353,\n",
       "       0.00961031, 0.00961031, 0.00961031, 0.00985968, 0.00985968,\n",
       "       0.00985968, 0.01010122, 0.01010122, 0.01010122, 0.0103345 ,\n",
       "       0.01055915, 0.01077477, 0.01077477, 0.01077477, 0.01098102,\n",
       "       0.01117755, 0.01117755, 0.01154027, 0.01154027, 0.01154027,\n",
       "       0.0117059 , 0.0118607 , 0.0118607 , 0.01200447, 0.01200447,\n",
       "       0.01200447, 0.012137  , 0.012137  , 0.01225812, 0.01225812,\n",
       "       0.0123677 , 0.0123677 , 0.0123677 , 0.01246561, 0.01246561,\n",
       "       0.01246561, 0.01246561, 0.01246561, 0.01255176, 0.01255176,\n",
       "       0.01255176, 0.01262609, 0.01262609, 0.01262609, 0.01262609,\n",
       "       0.01268855, 0.01268855, 0.01273913, 0.01273913, 0.01277785,\n",
       "       0.01277785, 0.01277785, 0.01277785, 0.01277785, 0.01280473,\n",
       "       0.01280473, 0.01280473, 0.01280473, 0.01281984, 0.01281984,\n",
       "       0.01282326, 0.01282326, 0.01282326, 0.01281512, 0.01281512,\n",
       "       0.01281512, 0.01279553, 0.01279553, 0.01276466, 0.01272269,\n",
       "       0.01272269, 0.01266982, 0.01260628, 0.01260628, 0.0125323 ,\n",
       "       0.01244816, 0.01244816, 0.01244816, 0.01235412, 0.01235412,\n",
       "       0.01225049, 0.01225049, 0.01213759, 0.01213759, 0.01213759,\n",
       "       0.01213759, 0.01201574, 0.01174657, 0.01174657, 0.01159999,\n",
       "       0.01159999, 0.0114459 , 0.0114459 , 0.01128469, 0.01111676,\n",
       "       0.01094252, 0.01094252, 0.01076236, 0.01038595, 0.01019053,\n",
       "       0.01019053, 0.01019053, 0.00999086, 0.00978735, 0.00978735,\n",
       "       0.00958041, 0.00937046, 0.0091579 , 0.00894314, 0.00872657,\n",
       "       0.00828955, 0.00828955, 0.00806986, 0.00806986, 0.00806986,\n",
       "       0.00784986, 0.00741036, 0.00719152, 0.00697372, 0.00611881,\n",
       "       0.00570487, 0.00570487, 0.00550212, 0.00510608, 0.00491315,\n",
       "       0.00491315, 0.00491315, 0.00453832, 0.0043567 , 0.00417909,\n",
       "       0.00383634, 0.00351077, 0.00305556, 0.00238666, 0.00226626,\n",
       "       0.00215025, 0.00182801, 0.00172899, 0.00137283, 0.00129334,\n",
       "       0.00101077, 0.00094847, 0.0008893 , 0.00077994])"
      ]
     },
     "execution_count": 12,
     "metadata": {},
     "output_type": "execute_result"
    }
   ],
   "execution_count": 12
  },
  {
   "cell_type": "code",
   "id": "60e0c276d477b4c3",
   "metadata": {},
   "source": [
    "k, lam = estimate_weibull_params_moments(train_data['Glucose'])\n",
    "print(f\"k: {k}, lam: {lam}\")\n",
    "dx = np.arange(np.min(test_data['Glucose']), np.max(test_data['Glucose']), (np.max(test_data['Glucose'])-np.min(test_data['Glucose'])) / 164)\n",
    "wf = weibull(k, lam)\n",
    "plt.plot(dx, [wf(val) for val in dx], color='red', label='Weibull-Raw')\n",
    "plt.plot(dx, st.weibull_min.pdf(dx, params[0], loc=params[1], scale=params[2]), color='blue', label='Weibull-Lib')\n",
    "sns.histplot(test_data['Glucose'], bins=30, stat='density', color='skyblue', alpha=0.6)"
   ],
   "outputs": [],
   "execution_count": null
  },
  {
   "metadata": {
    "ExecuteTime": {
     "end_time": "2025-03-29T13:03:07.975130Z",
     "start_time": "2025-03-29T13:03:07.821326Z"
    }
   },
   "cell_type": "code",
   "source": [
    "res_1 = scipy.optimize.minimize(minimum_square_method(weibull), [-0.1, 0.3], args = (train_data['Glucose'], ))\n",
    "alpha_1, beta_1 = res_1.x\n",
    "print(f'Оценка Альфа_1: {alpha_1}')\n",
    "print(f'Оценка Бета_1: {beta_1}')"
   ],
   "id": "c615d6d6a67e00b5",
   "outputs": [
    {
     "name": "stdout",
     "output_type": "stream",
     "text": [
      "Оценка Альфа_1: 0.6712316513061524\n",
      "Оценка Бета_1: 0.283518123626709\n"
     ]
    },
    {
     "ename": "NameError",
     "evalue": "name 'alpha' is not defined",
     "output_type": "error",
     "traceback": [
      "\u001B[0;31m---------------------------------------------------------------------------\u001B[0m",
      "\u001B[0;31mNameError\u001B[0m                                 Traceback (most recent call last)",
      "Cell \u001B[0;32mIn[28], line 7\u001B[0m\n\u001B[1;32m      5\u001B[0m \u001B[38;5;28;01mdef\u001B[39;00m\u001B[38;5;250m \u001B[39m\u001B[38;5;21mdistr\u001B[39m(x, point):\n\u001B[1;32m      6\u001B[0m     \u001B[38;5;28;01mreturn\u001B[39;00m np\u001B[38;5;241m.\u001B[39msum(x \u001B[38;5;241m<\u001B[39m\u001B[38;5;241m=\u001B[39m point) \u001B[38;5;241m/\u001B[39m \u001B[38;5;28mlen\u001B[39m(x)\n\u001B[0;32m----> 7\u001B[0m plt\u001B[38;5;241m.\u001B[39mscatter(train_data[\u001B[38;5;124m'\u001B[39m\u001B[38;5;124mGlucose\u001B[39m\u001B[38;5;124m'\u001B[39m], \u001B[38;5;28;43mlist\u001B[39;49m\u001B[43m(\u001B[49m\u001B[38;5;28;43mmap\u001B[39;49m\u001B[43m(\u001B[49m\u001B[38;5;28;43;01mlambda\u001B[39;49;00m\u001B[43m \u001B[49m\u001B[43mpoint\u001B[49m\u001B[43m:\u001B[49m\u001B[43m \u001B[49m\u001B[43mdistr\u001B[49m\u001B[43m(\u001B[49m\u001B[43malpha\u001B[49m\u001B[38;5;241;43m*\u001B[39;49m\u001B[43mtrain_data\u001B[49m\u001B[43m[\u001B[49m\u001B[38;5;124;43m'\u001B[39;49m\u001B[38;5;124;43mGlucose\u001B[39;49m\u001B[38;5;124;43m'\u001B[39;49m\u001B[43m]\u001B[49m\u001B[38;5;241;43m*\u001B[39;49m\u001B[38;5;241;43m*\u001B[39;49m\u001B[43mbeta\u001B[49m\u001B[43m,\u001B[49m\u001B[43m \u001B[49m\u001B[43mpoint\u001B[49m\u001B[43m)\u001B[49m\u001B[43m,\u001B[49m\u001B[43m \u001B[49m\u001B[43mtrain_data\u001B[49m\u001B[43m[\u001B[49m\u001B[38;5;124;43m'\u001B[39;49m\u001B[38;5;124;43mGlucose\u001B[39;49m\u001B[38;5;124;43m'\u001B[39;49m\u001B[43m]\u001B[49m\u001B[43m)\u001B[49m\u001B[43m)\u001B[49m, label \u001B[38;5;241m=\u001B[39m \u001B[38;5;124m'\u001B[39m\u001B[38;5;124mtheta1\u001B[39m\u001B[38;5;124m'\u001B[39m)\n\u001B[1;32m      8\u001B[0m plt\u001B[38;5;241m.\u001B[39mscatter(train_data[\u001B[38;5;124m'\u001B[39m\u001B[38;5;124mGlucose\u001B[39m\u001B[38;5;124m'\u001B[39m], \u001B[38;5;28mlist\u001B[39m(\u001B[38;5;28mmap\u001B[39m(\u001B[38;5;28;01mlambda\u001B[39;00m point: distr(train_data[\u001B[38;5;124m'\u001B[39m\u001B[38;5;124mGlucose\u001B[39m\u001B[38;5;124m'\u001B[39m], point), train_data[\u001B[38;5;124m'\u001B[39m\u001B[38;5;124mGlucose\u001B[39m\u001B[38;5;124m'\u001B[39m])), label \u001B[38;5;241m=\u001B[39m \u001B[38;5;124m'\u001B[39m\u001B[38;5;124mtheta2\u001B[39m\u001B[38;5;124m'\u001B[39m)\n\u001B[1;32m      9\u001B[0m plt\u001B[38;5;241m.\u001B[39mlegend()\n",
      "Cell \u001B[0;32mIn[28], line 7\u001B[0m, in \u001B[0;36m<lambda>\u001B[0;34m(point)\u001B[0m\n\u001B[1;32m      5\u001B[0m \u001B[38;5;28;01mdef\u001B[39;00m\u001B[38;5;250m \u001B[39m\u001B[38;5;21mdistr\u001B[39m(x, point):\n\u001B[1;32m      6\u001B[0m     \u001B[38;5;28;01mreturn\u001B[39;00m np\u001B[38;5;241m.\u001B[39msum(x \u001B[38;5;241m<\u001B[39m\u001B[38;5;241m=\u001B[39m point) \u001B[38;5;241m/\u001B[39m \u001B[38;5;28mlen\u001B[39m(x)\n\u001B[0;32m----> 7\u001B[0m plt\u001B[38;5;241m.\u001B[39mscatter(train_data[\u001B[38;5;124m'\u001B[39m\u001B[38;5;124mGlucose\u001B[39m\u001B[38;5;124m'\u001B[39m], \u001B[38;5;28mlist\u001B[39m(\u001B[38;5;28mmap\u001B[39m(\u001B[38;5;28;01mlambda\u001B[39;00m point: distr(\u001B[43malpha\u001B[49m\u001B[38;5;241m*\u001B[39mtrain_data[\u001B[38;5;124m'\u001B[39m\u001B[38;5;124mGlucose\u001B[39m\u001B[38;5;124m'\u001B[39m]\u001B[38;5;241m*\u001B[39m\u001B[38;5;241m*\u001B[39mbeta, point), train_data[\u001B[38;5;124m'\u001B[39m\u001B[38;5;124mGlucose\u001B[39m\u001B[38;5;124m'\u001B[39m])), label \u001B[38;5;241m=\u001B[39m \u001B[38;5;124m'\u001B[39m\u001B[38;5;124mtheta1\u001B[39m\u001B[38;5;124m'\u001B[39m)\n\u001B[1;32m      8\u001B[0m plt\u001B[38;5;241m.\u001B[39mscatter(train_data[\u001B[38;5;124m'\u001B[39m\u001B[38;5;124mGlucose\u001B[39m\u001B[38;5;124m'\u001B[39m], \u001B[38;5;28mlist\u001B[39m(\u001B[38;5;28mmap\u001B[39m(\u001B[38;5;28;01mlambda\u001B[39;00m point: distr(train_data[\u001B[38;5;124m'\u001B[39m\u001B[38;5;124mGlucose\u001B[39m\u001B[38;5;124m'\u001B[39m], point), train_data[\u001B[38;5;124m'\u001B[39m\u001B[38;5;124mGlucose\u001B[39m\u001B[38;5;124m'\u001B[39m])), label \u001B[38;5;241m=\u001B[39m \u001B[38;5;124m'\u001B[39m\u001B[38;5;124mtheta2\u001B[39m\u001B[38;5;124m'\u001B[39m)\n\u001B[1;32m      9\u001B[0m plt\u001B[38;5;241m.\u001B[39mlegend()\n",
      "\u001B[0;31mNameError\u001B[0m: name 'alpha' is not defined"
     ]
    }
   ],
   "execution_count": 28
  },
  {
   "metadata": {
    "ExecuteTime": {
     "end_time": "2025-04-07T07:22:10.914059Z",
     "start_time": "2025-04-07T07:22:10.908182Z"
    }
   },
   "cell_type": "code",
   "source": [
    "alpha, beta = moment_method(train_data['Glucose'], train_data2['Glucose'])\n",
    "print(f\"alpha_estimated:{alpha}, beta_estimated:{beta}\")"
   ],
   "id": "b4978c2b15d25f60",
   "outputs": [
    {
     "name": "stdout",
     "output_type": "stream",
     "text": [
      "alpha_estimated:0.7815849711835694, beta_estimated:1.0480068507277494\n"
     ]
    }
   ],
   "execution_count": 7
  },
  {
   "metadata": {
    "ExecuteTime": {
     "end_time": "2025-04-07T07:22:12.745499Z",
     "start_time": "2025-04-07T07:22:12.358179Z"
    }
   },
   "cell_type": "code",
   "source": [
    "def distr(x, point):\n",
    "    return np.sum(x <= point) / len(x)\n",
    "plt.scatter(test_data['Glucose'], list(map(lambda point: distr(alpha*test_data['Glucose']**beta, point), alpha*test_data['Glucose']**beta)), label = 'theta1')\n",
    "plt.scatter(test_data2['Glucose'], list(map(lambda point: distr(test_data2['Glucose'], point), test_data2['Glucose'])), label = 'theta2')\n",
    "plt.legend()"
   ],
   "id": "f673475922fa1038",
   "outputs": [
    {
     "data": {
      "text/plain": [
       "<matplotlib.legend.Legend at 0x7fd3f1ee9e40>"
      ]
     },
     "execution_count": 8,
     "metadata": {},
     "output_type": "execute_result"
    },
    {
     "data": {
      "text/plain": [
       "<Figure size 432x288 with 1 Axes>"
      ],
      "image/png": "[encoded data removed]"
     },
     "metadata": {},
     "output_type": "display_data"
    }
   ],
   "execution_count": 8
  },
  {
   "metadata": {
    "ExecuteTime": {
     "end_time": "2025-04-07T07:22:31.390263Z",
     "start_time": "2025-04-07T07:22:31.175225Z"
    }
   },
   "cell_type": "code",
   "source": [
    "kolmogorov_stat = calculate_Kolmogorov_statistic(test_data2['Glucose'], alpha * (test_data['Glucose']**beta))\n",
    "alpha = 0.05   # 5%\n",
    "K_alpha = np.sqrt(-1/2 * np.log((1 - alpha) / 2))\n",
    "print(f\"K_alpha: {K_alpha}\")\n",
    "print(f\"Статистика Колмогорова: {kolmogorov_stat}\")\n",
    "if kolmogorov_stat < K_alpha:\n",
    "    print(\"Гипотеза H0 принимается\")\n",
    "else:\n",
    "    print(\"Гипотеза H0 отвергается\")"
   ],
   "id": "44bae86134d68aee",
   "outputs": [
    {
     "name": "stdout",
     "output_type": "stream",
     "text": [
      "DNM: 0.03226626016260159\n",
      "K_alpha: 0.6100985473460397\n",
      "Статистика Колмогорова: 0.4470944157748926\n",
      "Гипотеза H0 принимается\n"
     ]
    }
   ],
   "execution_count": 10
  },
  {
   "metadata": {
    "ExecuteTime": {
     "end_time": "2025-04-07T08:38:13.244098Z",
     "start_time": "2025-04-07T08:38:13.234634Z"
    }
   },
   "cell_type": "code",
   "source": [
    "from scipy.stats import ks_2samp, ks_1samp\n",
    "stat, p_value =  ks_2samp(test_data2['Glucose'], alpha * (test_data['Glucose']**beta))\n",
    "print(\"KS statistic:\", stat)\n",
    "print(\"p-value:\", p_value)\n",
    "ks_1samp"
   ],
   "id": "3781edaccdca7d2b",
   "outputs": [
    {
     "name": "stdout",
     "output_type": "stream",
     "text": [
      "KS statistic: 0.3861774344569288\n",
      "p-value: 3.872066338447972e-17\n"
     ]
    },
    {
     "data": {
      "text/plain": [
       "<function scipy.stats._stats_py.ks_1samp(x, cdf, args=(), alternative='two-sided', mode='auto')>"
      ]
     },
     "execution_count": 41,
     "metadata": {},
     "output_type": "execute_result"
    }
   ],
   "execution_count": 41
  },
  {
   "metadata": {
    "ExecuteTime": {
     "end_time": "2025-04-07T07:39:21.888196Z",
     "start_time": "2025-04-07T07:39:21.865175Z"
    }
   },
   "cell_type": "code",
   "source": [
    "data = pd.read_csv('diabetes.csv', sep=',').drop_duplicates()\n",
    "data = z_filter(data, ['SkinThickness', 'Glucose', 'BloodPressure', 'Pregnancies', 'BMI', 'Age'], alpha=3)\n",
    "mean_value = data.loc[:, 'Insulin'].mean()\n",
    "data['Insulin'].replace(0, mean_value, inplace=True)"
   ],
   "id": "2ceb042cf7f0b9a9",
   "outputs": [
    {
     "data": {
      "text/plain": [
       "     Pregnancies  Glucose  BloodPressure  SkinThickness     Insulin   BMI  \\\n",
       "0              6      148             72             35   84.582865  33.6   \n",
       "1              1       85             66             29   84.582865  26.6   \n",
       "2              8      183             64              0   84.582865  23.3   \n",
       "3              1       89             66             23   94.000000  28.1   \n",
       "4              0      137             40             35  168.000000  43.1   \n",
       "..           ...      ...            ...            ...         ...   ...   \n",
       "763           10      101             76             48  180.000000  32.9   \n",
       "764            2      122             70             27   84.582865  36.8   \n",
       "765            5      121             72             23  112.000000  26.2   \n",
       "766            1      126             60              0   84.582865  30.1   \n",
       "767            1       93             70             31   84.582865  30.4   \n",
       "\n",
       "     DiabetesPedigreeFunction  Age  Outcome  \n",
       "0                       0.627   50        1  \n",
       "1                       0.351   31        0  \n",
       "2                       0.672   32        1  \n",
       "3                       0.167   21        0  \n",
       "4                       2.288   33        1  \n",
       "..                        ...  ...      ...  \n",
       "763                     0.171   63        0  \n",
       "764                     0.340   27        0  \n",
       "765                     0.245   30        0  \n",
       "766                     0.349   47        1  \n",
       "767                     0.315   23        0  \n",
       "\n",
       "[712 rows x 9 columns]"
      ],
      "text/html": [
       "<div>\n",
       "<style scoped>\n",
       "    .dataframe tbody tr th:only-of-type {\n",
       "        vertical-align: middle;\n",
       "    }\n",
       "\n",
       "    .dataframe tbody tr th {\n",
       "        vertical-align: top;\n",
       "    }\n",
       "\n",
       "    .dataframe thead th {\n",
       "        text-align: right;\n",
       "    }\n",
       "</style>\n",
       "<table border=\"1\" class=\"dataframe\">\n",
       "  <thead>\n",
       "    <tr style=\"text-align: right;\">\n",
       "      <th></th>\n",
       "      <th>Pregnancies</th>\n",
       "      <th>Glucose</th>\n",
       "      <th>BloodPressure</th>\n",
       "      <th>SkinThickness</th>\n",
       "      <th>Insulin</th>\n",
       "      <th>BMI</th>\n",
       "      <th>DiabetesPedigreeFunction</th>\n",
       "      <th>Age</th>\n",
       "      <th>Outcome</th>\n",
       "    </tr>\n",
       "  </thead>\n",
       "  <tbody>\n",
       "    <tr>\n",
       "      <th>0</th>\n",
       "      <td>6</td>\n",
       "      <td>148</td>\n",
       "      <td>72</td>\n",
       "      <td>35</td>\n",
       "      <td>84.582865</td>\n",
       "      <td>33.6</td>\n",
       "      <td>0.627</td>\n",
       "      <td>50</td>\n",
       "      <td>1</td>\n",
       "    </tr>\n",
       "    <tr>\n",
       "      <th>1</th>\n",
       "      <td>1</td>\n",
       "      <td>85</td>\n",
       "      <td>66</td>\n",
       "      <td>29</td>\n",
       "      <td>84.582865</td>\n",
       "      <td>26.6</td>\n",
       "      <td>0.351</td>\n",
       "      <td>31</td>\n",
       "      <td>0</td>\n",
       "    </tr>\n",
       "    <tr>\n",
       "      <th>2</th>\n",
       "      <td>8</td>\n",
       "      <td>183</td>\n",
       "      <td>64</td>\n",
       "      <td>0</td>\n",
       "      <td>84.582865</td>\n",
       "      <td>23.3</td>\n",
       "      <td>0.672</td>\n",
       "      <td>32</td>\n",
       "      <td>1</td>\n",
       "    </tr>\n",
       "    <tr>\n",
       "      <th>3</th>\n",
       "      <td>1</td>\n",
       "      <td>89</td>\n",
       "      <td>66</td>\n",
       "      <td>23</td>\n",
       "      <td>94.000000</td>\n",
       "      <td>28.1</td>\n",
       "      <td>0.167</td>\n",
       "      <td>21</td>\n",
       "      <td>0</td>\n",
       "    </tr>\n",
       "    <tr>\n",
       "      <th>4</th>\n",
       "      <td>0</td>\n",
       "      <td>137</td>\n",
       "      <td>40</td>\n",
       "      <td>35</td>\n",
       "      <td>168.000000</td>\n",
       "      <td>43.1</td>\n",
       "      <td>2.288</td>\n",
       "      <td>33</td>\n",
       "      <td>1</td>\n",
       "    </tr>\n",
       "    <tr>\n",
       "      <th>...</th>\n",
       "      <td>...</td>\n",
       "      <td>...</td>\n",
       "      <td>...</td>\n",
       "      <td>...</td>\n",
       "      <td>...</td>\n",
       "      <td>...</td>\n",
       "      <td>...</td>\n",
       "      <td>...</td>\n",
       "      <td>...</td>\n",
       "    </tr>\n",
       "    <tr>\n",
       "      <th>763</th>\n",
       "      <td>10</td>\n",
       "      <td>101</td>\n",
       "      <td>76</td>\n",
       "      <td>48</td>\n",
       "      <td>180.000000</td>\n",
       "      <td>32.9</td>\n",
       "      <td>0.171</td>\n",
       "      <td>63</td>\n",
       "      <td>0</td>\n",
       "    </tr>\n",
       "    <tr>\n",
       "      <th>764</th>\n",
       "      <td>2</td>\n",
       "      <td>122</td>\n",
       "      <td>70</td>\n",
       "      <td>27</td>\n",
       "      <td>84.582865</td>\n",
       "      <td>36.8</td>\n",
       "      <td>0.340</td>\n",
       "      <td>27</td>\n",
       "      <td>0</td>\n",
       "    </tr>\n",
       "    <tr>\n",
       "      <th>765</th>\n",
       "      <td>5</td>\n",
       "      <td>121</td>\n",
       "      <td>72</td>\n",
       "      <td>23</td>\n",
       "      <td>112.000000</td>\n",
       "      <td>26.2</td>\n",
       "      <td>0.245</td>\n",
       "      <td>30</td>\n",
       "      <td>0</td>\n",
       "    </tr>\n",
       "    <tr>\n",
       "      <th>766</th>\n",
       "      <td>1</td>\n",
       "      <td>126</td>\n",
       "      <td>60</td>\n",
       "      <td>0</td>\n",
       "      <td>84.582865</td>\n",
       "      <td>30.1</td>\n",
       "      <td>0.349</td>\n",
       "      <td>47</td>\n",
       "      <td>1</td>\n",
       "    </tr>\n",
       "    <tr>\n",
       "      <th>767</th>\n",
       "      <td>1</td>\n",
       "      <td>93</td>\n",
       "      <td>70</td>\n",
       "      <td>31</td>\n",
       "      <td>84.582865</td>\n",
       "      <td>30.4</td>\n",
       "      <td>0.315</td>\n",
       "      <td>23</td>\n",
       "      <td>0</td>\n",
       "    </tr>\n",
       "  </tbody>\n",
       "</table>\n",
       "<p>712 rows × 9 columns</p>\n",
       "</div>"
      ]
     },
     "execution_count": 37,
     "metadata": {},
     "output_type": "execute_result"
    }
   ],
   "execution_count": 37
  },
  {
   "metadata": {
    "ExecuteTime": {
     "end_time": "2025-04-07T07:39:32.880316Z",
     "start_time": "2025-04-07T07:39:32.858716Z"
    }
   },
   "cell_type": "code",
   "source": [
    "cleansed_data = data.drop(columns=[\"Pregnancies\", \"BloodPressure\", \"SkinThickness\",\"BMI\", \"DiabetesPedigreeFunction\", \"Age\", \"Outcome\"])\n",
    "print(f\"first type size: {cleansed_data.axes[0].size}\")\n",
    "cleansed_data = cleansed_data.sort_values('Glucose').reset_index(drop=True)\n",
    "train_data, test_data = cleansed_data.loc[::2].reset_index(drop=True), cleansed_data.loc[1::2].reset_index(drop=True)\n",
    "print(f\"train_size: {train_data.shape[0]}, test_size: {test_data.shape[0]}\")"
   ],
   "id": "3d22aec17fa58869",
   "outputs": [
    {
     "name": "stdout",
     "output_type": "stream",
     "text": [
      "first type size: 712\n",
      "train_size: 356, test_size: 356\n"
     ]
    }
   ],
   "execution_count": 38
  },
  {
   "metadata": {
    "ExecuteTime": {
     "end_time": "2025-04-07T07:40:44.569064Z",
     "start_time": "2025-04-07T07:40:44.088114Z"
    }
   },
   "cell_type": "code",
   "source": [
    "def distr(x, point):\n",
    "    return np.sum(x <= point) / len(x)\n",
    "\n",
    "\n",
    "alpha, beta = moment_method(train_data['Glucose'], train_data['Insulin'])\n",
    "print(f\"alpha_estimated:{alpha}, beta_estimated:{beta}\")\n",
    "plt.scatter(test_data['Glucose'], list(map(lambda point: distr(alpha*test_data['Insulin']**beta, point), alpha*test_data['Insulin']**beta)), label = 'theta1')\n",
    "plt.legend()"
   ],
   "id": "91b7c79719d1a708",
   "outputs": [
    {
     "name": "stdout",
     "output_type": "stream",
     "text": [
      "0.2706718288920167\n",
      "alpha_estimated:39.5281909612684, beta_estimated:0.23615332676881431\n"
     ]
    },
    {
     "data": {
      "text/plain": [
       "<matplotlib.legend.Legend at 0x7fd3efcef910>"
      ]
     },
     "execution_count": 40,
     "metadata": {},
     "output_type": "execute_result"
    },
    {
     "data": {
      "text/plain": [
       "<Figure size 432x288 with 1 Axes>"
      ],
      "image/png": "[encoded data removed]"
     },
     "metadata": {},
     "output_type": "display_data"
    }
   ],
   "execution_count": 40
  }
 ],
 "metadata": {
  "kernelspec": {
   "display_name": "Python 3 (ipykernel)",
   "language": "python",
   "name": "python3"
  },
  "language_info": {
   "codemirror_mode": {
    "name": "ipython",
    "version": 3
   },
   "file_extension": ".py",
   "mimetype": "text/x-python",
   "name": "python",
   "nbconvert_exporter": "python",
   "pygments_lexer": "ipython3",
   "version": "3.10.12"
  }
 },
 "nbformat": 4,
 "nbformat_minor": 5
}
